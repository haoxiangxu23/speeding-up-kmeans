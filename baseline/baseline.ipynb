{
 "cells": [
  {
   "cell_type": "code",
   "execution_count": 1,
   "metadata": {
    "pycharm": {
     "is_executing": true
    }
   },
   "outputs": [],
   "source": [
    "import matplotlib.pyplot as plt\n",
    "import numpy as np\n",
    "from sklearn.cluster import KMeans\n",
    "from sklearn import datasets\n",
    "import time\n",
    "from sklearn.datasets._samples_generator import make_blobs"
   ]
  },
  {
   "cell_type": "code",
   "execution_count": 22,
   "metadata": {
    "pycharm": {
     "is_executing": true
    }
   },
   "outputs": [
    {
     "data": {
      "image/png": "[encoded data removed]",
      "text/plain": [
       "<Figure size 432x288 with 1 Axes>"
      ]
     },
     "metadata": {
      "needs_background": "light"
     },
     "output_type": "display_data"
    },
    {
     "name": "stdout",
     "output_type": "stream",
     "text": [
      "(40000, 16)\n"
     ]
    }
   ],
   "source": [
    "# initiate dataset\n",
    "dimensions = 12\n",
    "clusters = [[2]*dimensions]\n",
    "clusters.append([4]*dimensions)\n",
    "clusters.append([6]*dimensions)\n",
    "clusters.append([8]*dimensions)\n",
    "number = 40000\n",
    "standard = [0.2, 0.2, 0.2, 0.2]\n",
    "X, _ = make_blobs(n_samples=number, n_features=dimensions, centers=clusters, cluster_std=standard)\n",
    "plt.scatter(X[:, 0], X[:, 1], c=\"blue\", marker='o', label='dataset')\n",
    "plt.xlabel('first dimension')  \n",
    "plt.ylabel('second dimension')  \n",
    "plt.legend(loc=2) \n",
    "plt.show()\n",
    "print(X.shape)"
   ]
  },
  {
   "cell_type": "code",
   "execution_count": 21,
   "metadata": {
    "pycharm": {
     "is_executing": true
    },
    "scrolled": true
   },
   "outputs": [
    {
     "name": "stdout",
     "output_type": "stream",
     "text": [
      "(40004, 16)\n",
      "(40000, 16)\n",
      "(4, 16)\n"
     ]
    }
   ],
   "source": [
    "# load X and C from file\n",
    "Y = np.loadtxt(\"../kmeans/data/dataset_40k_points_16d_4C\")\n",
    "print(Y.shape)\n",
    "X = np.asarray(Y[:40000])\n",
    "C = np.asarray(Y[40000:])\n",
    "print(X.shape)\n",
    "print(C.shape)"
   ]
  },
  {
   "cell_type": "code",
   "execution_count": 15,
   "metadata": {},
   "outputs": [
    {
     "name": "stdout",
     "output_type": "stream",
     "text": [
      "[[3.762564 3.681719 3.888144 ... 4.174225 3.774484 4.105799]\n",
      " [3.903727 3.742826 3.949958 ... 4.007706 4.20116  3.989289]\n",
      " [7.800015 8.022355 8.015166 ... 7.797318 8.44604  7.706218]\n",
      " ...\n",
      " [2.308638 2.029477 2.40873  ... 2.168699 2.219187 2.149772]\n",
      " [2.282267 2.035695 1.491918 ... 1.989169 2.238774 1.954192]\n",
      " [4.106234 4.367011 4.087432 ... 4.336789 3.912844 3.956184]]\n"
     ]
    }
   ],
   "source": [
    "print(X)"
   ]
  },
  {
   "cell_type": "code",
   "execution_count": 23,
   "metadata": {
    "pycharm": {
     "is_executing": true
    }
   },
   "outputs": [
    {
     "name": "stdout",
     "output_type": "stream",
     "text": [
      "[[1.23358146 1.23858015 1.0309654  0.73561396 0.7834181  1.11070596\n",
      "  1.18497157 1.02009206 0.9449458  1.1393752  1.23097915 1.02475251\n",
      "  1.20503768 0.95734525 0.72694928 1.10150568]\n",
      " [4.93443865 4.66201825 4.68030684 4.96957458 5.00538595 5.01795965\n",
      "  4.9448467  5.00904755 4.96818415 5.1544287  5.23002447 4.88112911\n",
      "  5.08960172 5.31353211 5.07186176 4.98796198]\n",
      " [3.11881225 3.38853545 2.5117512  3.49334487 3.22183533 3.12476647\n",
      "  3.00768887 3.11438747 2.87185386 2.57605586 2.79882136 2.90176104\n",
      "  3.1331857  3.21328385 3.27403411 3.13673171]\n",
      " [7.29591415 6.98019488 7.34934629 6.86947021 7.39490022 6.87489329\n",
      "  6.74280866 6.81410058 7.08874103 7.21356239 6.88058761 7.00605131\n",
      "  7.10359071 7.139883   6.93953702 7.1582374 ]]\n"
     ]
    }
   ],
   "source": [
    "# initiate centers\n",
    "c_dimens = dimensions\n",
    "c = [[1]*c_dimens]\n",
    "c.append([3]*c_dimens)\n",
    "c.append([5]*c_dimens)\n",
    "c.append([7]*c_dimens)\n",
    "C, _ = make_blobs(n_samples=4, n_features=c_dimens, centers=c, cluster_std=standard)\n",
    "print(C)"
   ]
  },
  {
   "cell_type": "code",
   "execution_count": 4,
   "metadata": {},
   "outputs": [],
   "source": [
    "# store X and centers into one file\n",
    "Total = np.asarray(X)\n",
    "Total = np.append(Total, C, axis=0)\n",
    "Total = np.round(Total, decimals=6)\n",
    "np.savetxt(\"dataset_40k_points_320d_4C\", Total, delimiter=' ', fmt='%f')"
   ]
  },
  {
   "cell_type": "code",
   "execution_count": 17,
   "metadata": {
    "pycharm": {
     "is_executing": true
    }
   },
   "outputs": [
    {
     "name": "stdout",
     "output_type": "stream",
     "text": [
      "(40000, 16)\n",
      "[[6.00195161 5.99951376 5.99796157 6.00359226 5.99972897 5.99842491\n",
      "  5.99852428 6.00129964 5.99989464 6.00024392 6.00226168 5.99814005\n",
      "  5.99989472 5.99987383 5.99842193 6.00014582]\n",
      " [2.00255378 2.00247479 1.99892205 1.9986385  1.9995584  2.00084869\n",
      "  1.99764001 1.99912324 2.00410617 2.00101152 2.00204914 1.9994889\n",
      "  2.00078817 1.99687445 2.0021807  1.99963293]\n",
      " [4.00097134 3.99925252 4.002734   4.00284173 3.99901134 4.00080651\n",
      "  4.00076386 4.00097267 4.00232537 4.0011729  4.00161706 4.00461016\n",
      "  3.99872297 4.00133952 4.0009783  3.99850984]\n",
      " [7.99696704 8.00075673 8.00092807 8.00250763 7.99845685 7.99983169\n",
      "  8.00480678 7.99985247 7.99939871 7.99913263 7.99553261 8.00058602\n",
      "  8.00329597 8.00019024 8.00417    8.00128582]]\n",
      "Execution time: 0.19043779373168945\n",
      "cycles: 517389967.71097183\n",
      "FLOPS/cycle: 0.05009760841454819\n"
     ]
    }
   ],
   "source": [
    "# run baseline\n",
    "k = 4       # number of centers\n",
    "iter = 3   # number of iteration\n",
    "number = 40000\n",
    "dimensions = 16\n",
    "start_time = time.time()\n",
    "estimator = KMeans(n_clusters=k, init=C, n_init = 1, max_iter=iter)\n",
    "estimator.fit(X)\n",
    "print(X.shape)\n",
    "new_array = estimator.cluster_centers_\n",
    "print(new_array)\n",
    "end_time = time.time()\n",
    "\n",
    "base_frequency = 2716845000\n",
    "total_time = end_time - start_time\n",
    "cycles = total_time * base_frequency\n",
    "flops_per_cycle = (iter * (3 * k * number * dimensions + 2 * k * number + number * dimensions)) / cycles\n",
    "\n",
    "print(\"Execution time: \" + str(total_time))\n",
    "print(\"cycles: \" + str(cycles))\n",
    "print(\"FLOPS/cycle: \" + str(flops_per_cycle))"
   ]
  },
  {
   "cell_type": "code",
   "execution_count": 6,
   "metadata": {
    "pycharm": {
     "is_executing": true
    }
   },
   "outputs": [
    {
     "data": {
      "image/png": "[encoded data removed]",
      "text/plain": [
       "<Figure size 432x288 with 1 Axes>"
      ]
     },
     "metadata": {
      "needs_background": "light"
     },
     "output_type": "display_data"
    }
   ],
   "source": [
    "# plot clusted data\n",
    "estimator = KMeans(n_clusters=4)\n",
    "estimator.fit(X)  # cluster\n",
    "label_pred = estimator.labels_  # get labels\n",
    "# plot result\n",
    "x0 = X[label_pred == 0]\n",
    "x1 = X[label_pred == 1]\n",
    "x2 = X[label_pred == 2]\n",
    "x3 = X[label_pred == 3]\n",
    "plt.scatter(x0[:, 0], x0[:, 1], c=\"red\", marker='o', label='label0')  \n",
    "plt.scatter(x1[:, 0], x1[:, 1], c=\"green\", marker='*', label='label1')  \n",
    "plt.scatter(x2[:, 0], x2[:, 1], c=\"blue\", marker='+', label='label2')  \n",
    "plt.scatter(x3[:, 0], x3[:, 1], c=\"yellow\", marker='x', label='label3')  \n",
    "plt.xlabel('first dimension')  \n",
    "plt.ylabel('second dimension')  \n",
    "plt.legend(loc=2)  \n",
    "plt.show() "
   ]
  }
 ],
 "metadata": {
  "interpreter": {
   "hash": "31f2aee4e71d21fbe5cf8b01ff0e069b9275f58929596ceb00d14d90e3e16cd6"
  },
  "kernelspec": {
   "display_name": "Python 3",
   "language": "python",
   "name": "python3"
  },
  "language_info": {
   "codemirror_mode": {
    "name": "ipython",
    "version": 3
   },
   "file_extension": ".py",
   "mimetype": "text/x-python",
   "name": "python",
   "nbconvert_exporter": "python",
   "pygments_lexer": "ipython3",
   "version": "3.6.8"
  }
 },
 "nbformat": 4,
 "nbformat_minor": 2
}
